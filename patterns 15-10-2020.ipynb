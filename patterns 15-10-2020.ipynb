{
 "cells": [
  {
   "cell_type": "code",
   "execution_count": 1,
   "metadata": {},
   "outputs": [
    {
     "name": "stdout",
     "output_type": "stream",
     "text": [
      "Enter n value :5\n",
      "*                * \n",
      "  *            * \n",
      "    *        * \n",
      "      *    * \n",
      "        *  \n"
     ]
    }
   ],
   "source": [
    "n=int(input(\"Enter n value :\"))\n",
    "for i in range (n):\n",
    "    print(\"  \"*i+\"* \",end=\" \")\n",
    "    if i !=n-1:\n",
    "        print(\"  \"*(2*n-2*i-3)+\"*\",end=\" \")\n",
    "    print()    "
   ]
  },
  {
   "cell_type": "code",
   "execution_count": 3,
   "metadata": {},
   "outputs": [
    {
     "name": "stdout",
     "output_type": "stream",
     "text": [
      "Enter n value :5\n",
      "        *       *   *     *       *   *           * *               * *                * \n",
      "  *            * \n",
      "    *        * \n",
      "      *    * \n",
      "        *  \n"
     ]
    }
   ],
   "source": [
    "n=int(input(\"Enter n value :\"))\n",
    "for i in range(n):\n",
    "    print(\"  \"*(n-i-1)+\"*\",end=\" \")\n",
    "    if i>=1:\n",
    "        print(\"  \"*(2*i-1)+\"*\",end=\" \")\n",
    "for i in range (n):\n",
    "    print(\"  \"*i+\"* \",end=\" \")\n",
    "    if i !=n-1:\n",
    "        print(\"  \"*(2*n-2*i-3)+\"*\",end=\" \")\n",
    "    print()    "
   ]
  },
  {
   "cell_type": "code",
   "execution_count": 5,
   "metadata": {},
   "outputs": [
    {
     "name": "stdout",
     "output_type": "stream",
     "text": [
      "  * * *   \n",
      "*       * \n",
      "*         \n",
      "*   * * * \n",
      "*       * \n",
      "*       * \n",
      "  * * *   \n"
     ]
    }
   ],
   "source": [
    "for row in range(7):\n",
    "    for col in range(5):\n",
    "        if (row in {0,6}) and (col in {1,2,3}):\n",
    "            print(\"*\",end=\" \")\n",
    "        elif (row in {1,4,5}) and (col in {0,4}):\n",
    "            print(\"*\",end=\" \")\n",
    "        elif (row==2) and (col==0):\n",
    "            print(\"*\",end=\" \")\n",
    "        elif (row==3) and (col!=1):\n",
    "            print(\"*\",end=\" \")\n",
    "        else:\n",
    "            print(\" \",end=\" \")\n",
    "    print()        \n",
    "            "
   ]
  },
  {
   "cell_type": "code",
   "execution_count": 6,
   "metadata": {},
   "outputs": [],
   "source": [
    "def calculate(a,b):\n",
    "    print(\" the sum is :\",a+b)\n",
    "    print(\" the diff is :\",a-b)\n",
    "    print(\" the product is :\",a*b)"
   ]
  },
  {
   "cell_type": "code",
   "execution_count": 7,
   "metadata": {},
   "outputs": [
    {
     "name": "stdout",
     "output_type": "stream",
     "text": [
      " the sum is : 50\n",
      " the diff is : -10\n",
      " the product is : 600\n"
     ]
    }
   ],
   "source": [
    "calculate(20,30)"
   ]
  },
  {
   "cell_type": "code",
   "execution_count": 8,
   "metadata": {},
   "outputs": [
    {
     "name": "stdout",
     "output_type": "stream",
     "text": [
      " the sum is : 3000\n",
      " the diff is : 1000\n",
      " the product is : 2000000\n"
     ]
    }
   ],
   "source": [
    "calculate(2000,1000)"
   ]
  },
  {
   "cell_type": "code",
   "execution_count": 9,
   "metadata": {},
   "outputs": [
    {
     "data": {
      "text/plain": [
       "'0b1111'"
      ]
     },
     "execution_count": 9,
     "metadata": {},
     "output_type": "execute_result"
    }
   ],
   "source": [
    "bin(15)"
   ]
  },
  {
   "cell_type": "code",
   "execution_count": 10,
   "metadata": {},
   "outputs": [
    {
     "data": {
      "text/plain": [
       "'0b11111010000'"
      ]
     },
     "execution_count": 10,
     "metadata": {},
     "output_type": "execute_result"
    }
   ],
   "source": [
    "bin(2000)"
   ]
  },
  {
   "cell_type": "code",
   "execution_count": 11,
   "metadata": {},
   "outputs": [
    {
     "data": {
      "text/plain": [
       "'0o144'"
      ]
     },
     "execution_count": 11,
     "metadata": {},
     "output_type": "execute_result"
    }
   ],
   "source": [
    "oct(100)"
   ]
  },
  {
   "cell_type": "code",
   "execution_count": 12,
   "metadata": {},
   "outputs": [
    {
     "data": {
      "text/plain": [
       "'0x3e8'"
      ]
     },
     "execution_count": 12,
     "metadata": {},
     "output_type": "execute_result"
    }
   ],
   "source": [
    "hex(1000)"
   ]
  },
  {
   "cell_type": "code",
   "execution_count": 13,
   "metadata": {},
   "outputs": [
    {
     "data": {
      "text/plain": [
       "'0o347'"
      ]
     },
     "execution_count": 13,
     "metadata": {},
     "output_type": "execute_result"
    }
   ],
   "source": [
    "oct(231)"
   ]
  },
  {
   "cell_type": "code",
   "execution_count": null,
   "metadata": {},
   "outputs": [],
   "source": []
  }
 ],
 "metadata": {
  "kernelspec": {
   "display_name": "Python 3",
   "language": "python",
   "name": "python3"
  },
  "language_info": {
   "codemirror_mode": {
    "name": "ipython",
    "version": 3
   },
   "file_extension": ".py",
   "mimetype": "text/x-python",
   "name": "python",
   "nbconvert_exporter": "python",
   "pygments_lexer": "ipython3",
   "version": "3.8.3"
  }
 },
 "nbformat": 4,
 "nbformat_minor": 4
}
